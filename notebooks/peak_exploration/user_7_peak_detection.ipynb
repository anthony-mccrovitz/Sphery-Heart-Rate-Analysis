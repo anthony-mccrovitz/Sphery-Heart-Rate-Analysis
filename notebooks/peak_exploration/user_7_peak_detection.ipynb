{
 "cells": [
  {
   "cell_type": "raw",
   "metadata": {
    "vscode": {
     "languageId": "raw"
    }
   },
   "source": [
    "# User 7 - Peak-Based Heart Rate Analysis\n",
    "\n",
    "**Objective:** Detect heart rate peaks automatically and create draggable station boundaries for precise positioning.\n",
    "\n",
    "**Workflow:**\n",
    "1. Setup and data loading\n",
    "2. Heart rate data preprocessing  \n",
    "3. Automatic peak detection\n",
    "4. **DRAGGABLE** station boundary positioning\n",
    "5. Export final results\n",
    "\n",
    "**Expected Outcome:** 4-6 peaks with station boundaries positioned exactly where needed for your boss's approval.\n"
   ]
  },
  {
   "cell_type": "markdown",
   "metadata": {},
   "source": [
    "# User 7 - Peak-Based Heart Rate Analysis\n",
    "\n",
    "**Objective:** Detect heart rate peaks automatically and create draggable station boundaries for precise positioning.\n",
    "\n",
    "**Workflow:**\n",
    "1. Setup and data loading\n",
    "2. Heart rate data preprocessing  \n",
    "3. Automatic peak detection\n",
    "4. **DRAGGABLE** station boundary positioning\n",
    "5. Export final results\n",
    "\n",
    "**Expected Outcome:** 4-6 peaks with station boundaries positioned exactly where needed for your boss's approval."
   ]
  },
  {
   "cell_type": "code",
   "execution_count": 7,
   "metadata": {},
   "outputs": [
    {
     "name": "stdout",
     "output_type": "stream",
     "text": [
      "✅ Plotly already available\n",
      "🎯 Analysis for User 7\n",
      "📁 TCX file: data/7-d.tcx\n",
      "✅ All libraries loaded successfully\n"
     ]
    }
   ],
   "source": [
    "# STEP 1: Setup and Imports\n",
    "\n",
    "import sys\n",
    "import subprocess\n",
    "\n",
    "# Install plotly if missing\n",
    "try:\n",
    "    import plotly\n",
    "    print(\"✅ Plotly already available\")\n",
    "except ImportError:\n",
    "    print(\"📦 Installing plotly...\")\n",
    "    subprocess.check_call([sys.executable, \"-m\", \"pip\", \"install\", \"plotly\"])\n",
    "    print(\"✅ Plotly installed successfully!\")\n",
    "\n",
    "# Core imports\n",
    "import os\n",
    "import pandas as pd\n",
    "import numpy as np\n",
    "import matplotlib.pyplot as plt\n",
    "from scipy.signal import find_peaks\n",
    "from datetime import datetime\n",
    "from IPython.display import display\n",
    "import matplotlib.image as mpimg\n",
    "import ipywidgets as widgets\n",
    "\n",
    "# Plotly imports\n",
    "import plotly.graph_objects as go\n",
    "import plotly.express as px\n",
    "from plotly.subplots import make_subplots\n",
    "\n",
    "# Set working directory\n",
    "os.chdir('/Users/anthonymccrovitz/Desktop/Sphery/Sphere Heart Rate Analysis')\n",
    "sys.path.append('scripts')\n",
    "\n",
    "# Import TCX parser\n",
    "from parse_tcx import parse_tcx_to_df\n",
    "\n",
    "# Configuration\n",
    "USER_ID = 7\n",
    "TCX_FILE = f'data/{USER_ID}-d.tcx'\n",
    "\n",
    "print(f\"🎯 Analysis for User {USER_ID}\")\n",
    "print(f\"📁 TCX file: {TCX_FILE}\")\n",
    "print(\"✅ All libraries loaded successfully\")"
   ]
  },
  {
   "cell_type": "code",
   "execution_count": 8,
   "metadata": {},
   "outputs": [
    {
     "name": "stdout",
     "output_type": "stream",
     "text": [
      "✅ Successfully parsed TCX file\n",
      "📊 Session Summary:\n",
      "   Duration: 45.93 minutes\n",
      "   Average HR: 152.5 bpm\n",
      "   Maximum HR: 192 bpm\n",
      "   Data points: 167\n",
      "   Calories: 354\n",
      "\n",
      "📈 Heart Rate Statistics:\n",
      "   Min: 102 bpm\n",
      "   Max: 192 bpm\n",
      "   Mean: 152.5 bpm\n",
      "   Std: 26.5 bpm\n",
      "\n",
      "📋 Data Preview:\n"
     ]
    },
    {
     "data": {
      "text/html": [
       "<div>\n",
       "<style scoped>\n",
       "    .dataframe tbody tr th:only-of-type {\n",
       "        vertical-align: middle;\n",
       "    }\n",
       "\n",
       "    .dataframe tbody tr th {\n",
       "        vertical-align: top;\n",
       "    }\n",
       "\n",
       "    .dataframe thead th {\n",
       "        text-align: right;\n",
       "    }\n",
       "</style>\n",
       "<table border=\"1\" class=\"dataframe\">\n",
       "  <thead>\n",
       "    <tr style=\"text-align: right;\">\n",
       "      <th></th>\n",
       "      <th>timestamp</th>\n",
       "      <th>heart_rate</th>\n",
       "      <th>start_time</th>\n",
       "      <th>elapsed_min</th>\n",
       "      <th>hr_smooth</th>\n",
       "    </tr>\n",
       "  </thead>\n",
       "  <tbody>\n",
       "    <tr>\n",
       "      <th>0</th>\n",
       "      <td>2025-03-06 12:27:59+00:00</td>\n",
       "      <td>114</td>\n",
       "      <td>2025-03-06 12:27:59+00:00</td>\n",
       "      <td>0.000000</td>\n",
       "      <td>115.00</td>\n",
       "    </tr>\n",
       "    <tr>\n",
       "      <th>1</th>\n",
       "      <td>2025-03-06 12:28:12+00:00</td>\n",
       "      <td>117</td>\n",
       "      <td>2025-03-06 12:27:59+00:00</td>\n",
       "      <td>0.216667</td>\n",
       "      <td>112.75</td>\n",
       "    </tr>\n",
       "    <tr>\n",
       "      <th>2</th>\n",
       "      <td>2025-03-06 12:28:42+00:00</td>\n",
       "      <td>114</td>\n",
       "      <td>2025-03-06 12:27:59+00:00</td>\n",
       "      <td>0.716667</td>\n",
       "      <td>111.80</td>\n",
       "    </tr>\n",
       "    <tr>\n",
       "      <th>3</th>\n",
       "      <td>2025-03-06 12:28:53+00:00</td>\n",
       "      <td>106</td>\n",
       "      <td>2025-03-06 12:27:59+00:00</td>\n",
       "      <td>0.900000</td>\n",
       "      <td>111.40</td>\n",
       "    </tr>\n",
       "    <tr>\n",
       "      <th>4</th>\n",
       "      <td>2025-03-06 12:29:04+00:00</td>\n",
       "      <td>108</td>\n",
       "      <td>2025-03-06 12:27:59+00:00</td>\n",
       "      <td>1.083333</td>\n",
       "      <td>109.40</td>\n",
       "    </tr>\n",
       "  </tbody>\n",
       "</table>\n",
       "</div>"
      ],
      "text/plain": [
       "                  timestamp  heart_rate                start_time  \\\n",
       "0 2025-03-06 12:27:59+00:00         114 2025-03-06 12:27:59+00:00   \n",
       "1 2025-03-06 12:28:12+00:00         117 2025-03-06 12:27:59+00:00   \n",
       "2 2025-03-06 12:28:42+00:00         114 2025-03-06 12:27:59+00:00   \n",
       "3 2025-03-06 12:28:53+00:00         106 2025-03-06 12:27:59+00:00   \n",
       "4 2025-03-06 12:29:04+00:00         108 2025-03-06 12:27:59+00:00   \n",
       "\n",
       "   elapsed_min  hr_smooth  \n",
       "0     0.000000     115.00  \n",
       "1     0.216667     112.75  \n",
       "2     0.716667     111.80  \n",
       "3     0.900000     111.40  \n",
       "4     1.083333     109.40  "
      ]
     },
     "metadata": {},
     "output_type": "display_data"
    }
   ],
   "source": [
    "# STEP 2: Load and Preprocess Data\n",
    "\n",
    "try:\n",
    "    result = parse_tcx_to_df(TCX_FILE)\n",
    "    if len(result) == 4:\n",
    "        df, session_total_sec, session_avg_hr, session_max_hr = result\n",
    "        calories_burned = None\n",
    "    else:\n",
    "        df, session_total_sec, session_avg_hr, session_max_hr, calories_burned = result\n",
    "    \n",
    "    session_duration_min = session_total_sec / 60\n",
    "    \n",
    "    # Smooth the heart rate data to reduce noise\n",
    "    window_size = 5\n",
    "    df['hr_smooth'] = df['heart_rate'].rolling(window=window_size, center=True, min_periods=1).mean()\n",
    "    \n",
    "    print(f\"✅ Successfully parsed TCX file\")\n",
    "    print(f\"📊 Session Summary:\")\n",
    "    print(f\"   Duration: {session_duration_min:.2f} minutes\")\n",
    "    print(f\"   Average HR: {session_avg_hr:.1f} bpm\")\n",
    "    print(f\"   Maximum HR: {session_max_hr} bpm\")\n",
    "    print(f\"   Data points: {len(df)}\")\n",
    "    if calories_burned:\n",
    "        print(f\"   Calories: {calories_burned}\")\n",
    "    \n",
    "    print(f\"\\n📈 Heart Rate Statistics:\")\n",
    "    print(f\"   Min: {df['heart_rate'].min()} bpm\")\n",
    "    print(f\"   Max: {df['heart_rate'].max()} bpm\")\n",
    "    print(f\"   Mean: {df['heart_rate'].mean():.1f} bpm\")\n",
    "    print(f\"   Std: {df['heart_rate'].std():.1f} bpm\")\n",
    "    \n",
    "    print(f\"\\n📋 Data Preview:\")\n",
    "    display(df.head())\n",
    "    \n",
    "except Exception as e:\n",
    "    print(f\"❌ Error parsing TCX file: {e}\")\n",
    "    raise"
   ]
  },
  {
   "cell_type": "code",
   "execution_count": 9,
   "metadata": {},
   "outputs": [
    {
     "name": "stdout",
     "output_type": "stream",
     "text": [
      "🔍 Testing Peak Detection:\n",
      "Threshold 65%: 5 peaks\n",
      "Threshold 70%: 5 peaks\n",
      "Threshold 75%: 5 peaks\n",
      "Threshold 80%: 4 peaks\n",
      "\n",
      "✅ Selected: 70% threshold (134 bpm)\n",
      "✅ Detected: 5 peaks\n",
      "\n",
      "📊 Peak Details:\n",
      "   Peak 1: 3.42 min, 148 bpm\n",
      "   Peak 2: 6.30 min, 159 bpm\n",
      "   Peak 3: 26.47 min, 191 bpm\n",
      "   Peak 4: 39.28 min, 189 bpm\n",
      "   Peak 5: 43.90 min, 190 bpm\n"
     ]
    }
   ],
   "source": [
    "# STEP 3: Automatic Peak Detection\n",
    "\n",
    "def detect_hr_peaks(hr_series, max_hr, min_height_ratio=0.7, min_prominence=10, min_distance_min=1):\n",
    "    \"\"\"\n",
    "    Detect heart rate peaks and their regions based on threshold crossings\n",
    "    \"\"\"\n",
    "    threshold = max_hr * min_height_ratio\n",
    "    min_distance_samples = int(min_distance_min * 4)\n",
    "    peaks, properties = find_peaks(\n",
    "        hr_series, \n",
    "        height=threshold,\n",
    "        prominence=min_prominence,\n",
    "        distance=min_distance_samples\n",
    "    )\n",
    "    return peaks, threshold\n",
    "\n",
    "# Test different thresholds to find the best one\n",
    "print(\"🔍 Testing Peak Detection:\")\n",
    "threshold_ratios = [0.65, 0.70, 0.75, 0.80]\n",
    "results = {}\n",
    "\n",
    "for ratio in threshold_ratios:\n",
    "    peaks, threshold = detect_hr_peaks(\n",
    "        df['hr_smooth'], \n",
    "        session_max_hr, \n",
    "        min_height_ratio=ratio,\n",
    "        min_prominence=8,\n",
    "        min_distance_min=1.5\n",
    "    )\n",
    "    results[ratio] = {'peaks': peaks, 'threshold': threshold}\n",
    "    print(f\"Threshold {ratio*100:.0f}%: {len(peaks)} peaks\")\n",
    "\n",
    "# Select best threshold (70% usually works well)\n",
    "best_ratio = 0.70\n",
    "peaks = results[best_ratio]['peaks']\n",
    "threshold = results[best_ratio]['threshold']\n",
    "\n",
    "print(f\"\\n✅ Selected: {best_ratio*100:.0f}% threshold ({threshold:.0f} bpm)\")\n",
    "print(f\"✅ Detected: {len(peaks)} peaks\")\n",
    "\n",
    "if len(peaks) > 0:\n",
    "    print(f\"\\n📊 Peak Details:\")\n",
    "    for i, peak_idx in enumerate(peaks):\n",
    "        peak_time = df['elapsed_min'].iloc[peak_idx]\n",
    "        peak_hr = df['hr_smooth'].iloc[peak_idx]\n",
    "        print(f\"   Peak {i+1}: {peak_time:.2f} min, {peak_hr:.0f} bpm\")"
   ]
  },
  {
   "cell_type": "code",
   "execution_count": 10,
   "metadata": {},
   "outputs": [
    {
     "name": "stdout",
     "output_type": "stream",
     "text": [
      "Background image loaded successfully from charts_cropped/user_7.png\n"
     ]
    },
    {
     "data": {
      "application/vnd.jupyter.widget-view+json": {
       "model_id": "e8057f772c6b46948a0a0dab021d9b1d",
       "version_major": 2,
       "version_minor": 0
      },
      "text/plain": [
       "interactive(children=(FloatSlider(value=-0.8, description='X Offset:', layout=Layout(width='500px'), max=5.0, …"
      ]
     },
     "metadata": {},
     "output_type": "display_data"
    }
   ],
   "source": [
    "# STEP 3.5: Align smoothed HR data with cropped chart\n",
    "\n",
    "import matplotlib.image as mpimg\n",
    "from ipywidgets import interact, FloatSlider, IntSlider, Layout\n",
    "\n",
    "current_x_offset = -0.8\n",
    "current_x_scale = 1.0\n",
    "current_y_min = 90\n",
    "current_y_max = 190\n",
    "current_alpha = 0.6\n",
    "\n",
    "CHART_IMAGE = f'charts_cropped/user_{USER_ID}.png'\n",
    "try:\n",
    "    img = mpimg.imread(CHART_IMAGE)\n",
    "    print(f\"Background image loaded successfully from {CHART_IMAGE}\")\n",
    "except Exception as e:\n",
    "    print(f\"Error loading background image: {e}\")\n",
    "\n",
    "def update_alignment(x_offset=-0.8, x_scale=1.0, y_min=90, y_max=190, alpha=0.6):\n",
    "    global current_x_offset, current_x_scale, current_y_min, current_y_max, current_alpha\n",
    "    current_x_offset = x_offset\n",
    "    current_x_scale = x_scale\n",
    "    current_y_min = y_min\n",
    "    current_y_max = y_max\n",
    "    current_alpha = alpha\n",
    "    \n",
    "    fig, ax = plt.subplots(figsize=(14,5))\n",
    "    x_min = x_offset\n",
    "    x_max = x_offset + (df['elapsed_min'].max() * x_scale) + 1.2\n",
    "    ax.imshow(img, aspect='auto', extent=[x_min, x_max, y_min, y_max], \n",
    "              alpha=alpha, zorder=0, interpolation='bilinear')\n",
    "    ax.plot(df['elapsed_min'], df['hr_smooth'], color='red', linewidth=2.5, label='Smoothed HR Data', zorder=1)\n",
    "    ax.set_xlabel('Elapsed Minutes', fontsize=12)\n",
    "    ax.set_ylabel('Heart Rate (BPM)', fontsize=12)\n",
    "    ax.set_title(f'Overlay: Cropped Chart vs Smoothed HR Data (User {USER_ID})', fontsize=14)\n",
    "    ax.grid(True, linestyle='--', alpha=0.7)\n",
    "    ax.legend(loc='upper right')\n",
    "    plt.tight_layout()\n",
    "    plt.show()\n",
    "    print(f\"Current settings: x_offset={x_offset}, x_scale={x_scale}, y_min={y_min}, y_max={y_max}, alpha={alpha}\")\n",
    "\n",
    "slider_layout = Layout(width='500px')\n",
    "interact(update_alignment,\n",
    "         x_offset=FloatSlider(min=-5, max=5, step=0.1, value=-0.8, description='X Offset:', layout=slider_layout),\n",
    "         x_scale=FloatSlider(min=0.5, max=1.5, step=0.01, value=1.0, description='X Scale:', layout=slider_layout),\n",
    "         y_min=IntSlider(min=0, max=150, step=5, value=90, description='Y Min:', layout=slider_layout),\n",
    "         y_max=IntSlider(min=150, max=250, step=5, value=190, description='Y Max:', layout=slider_layout),\n",
    "         alpha=FloatSlider(min=0.1, max=1.0, step=0.05, value=0.6, description='Opacity:', layout=slider_layout));"
   ]
  },
  {
   "cell_type": "code",
   "execution_count": 11,
   "metadata": {},
   "outputs": [
    {
     "name": "stdout",
     "output_type": "stream",
     "text": [
      "🎯 User 7 has 5 detected stations (from 5 individual peaks)\n",
      "📊 Automatically initialized 10 cutoff lines from 5 individual peaks\n",
      "✅ Algorithm found the best station boundaries based on individual peaks!\n"
     ]
    },
    {
     "data": {
      "application/vnd.jupyter.widget-view+json": {
       "model_id": "237d22c5a96148eaac8b01cc63202633",
       "version_major": 2,
       "version_minor": 0
      },
      "text/plain": [
       "VBox(children=(FloatSlider(value=0.4166666666666665, description='Station 1 Start:', layout=Layout(width='500p…"
      ]
     },
     "metadata": {},
     "output_type": "display_data"
    },
    {
     "data": {
      "application/vnd.jupyter.widget-view+json": {
       "model_id": "620fcdfb261544bdb5cafae9a605b4a9",
       "version_major": 2,
       "version_minor": 0
      },
      "text/plain": [
       "Output()"
      ]
     },
     "metadata": {},
     "output_type": "display_data"
    },
    {
     "name": "stderr",
     "output_type": "stream",
     "text": [
      "/var/folders/wn/kjhkcp0x4c94gmv1184_v4t00000gn/T/ipykernel_86541/564953549.py:95: UserWarning: Glyph 127919 (\\N{DIRECT HIT}) missing from font(s) DejaVu Sans.\n",
      "  plt.tight_layout()\n",
      "/var/folders/wn/kjhkcp0x4c94gmv1184_v4t00000gn/T/ipykernel_86541/564953549.py:98: UserWarning: Glyph 127919 (\\N{DIRECT HIT}) missing from font(s) DejaVu Sans.\n",
      "  plt.savefig(f'{plots_dir}/heart_rate_with_stations.png', dpi=300, bbox_inches='tight')\n"
     ]
    },
    {
     "name": "stdout",
     "output_type": "stream",
     "text": [
      "\n",
      "🎛️ Use the sliders above to adjust station boundaries\n",
      "✅ Real-time updates - move sliders to see changes instantly\n",
      "📊 5 stations ready for fine-tuning\n"
     ]
    },
    {
     "name": "stderr",
     "output_type": "stream",
     "text": [
      "/var/folders/wn/kjhkcp0x4c94gmv1184_v4t00000gn/T/ipykernel_86541/564953549.py:95: UserWarning: Glyph 127919 (\\N{DIRECT HIT}) missing from font(s) DejaVu Sans.\n",
      "  plt.tight_layout()\n",
      "/var/folders/wn/kjhkcp0x4c94gmv1184_v4t00000gn/T/ipykernel_86541/564953549.py:98: UserWarning: Glyph 127919 (\\N{DIRECT HIT}) missing from font(s) DejaVu Sans.\n",
      "  plt.savefig(f'{plots_dir}/heart_rate_with_stations.png', dpi=300, bbox_inches='tight')\n"
     ]
    },
    {
     "name": "stderr",
     "output_type": "stream",
     "text": [
      "/var/folders/wn/kjhkcp0x4c94gmv1184_v4t00000gn/T/ipykernel_86541/564953549.py:95: UserWarning: Glyph 127919 (\\N{DIRECT HIT}) missing from font(s) DejaVu Sans.\n",
      "  plt.tight_layout()\n",
      "/var/folders/wn/kjhkcp0x4c94gmv1184_v4t00000gn/T/ipykernel_86541/564953549.py:98: UserWarning: Glyph 127919 (\\N{DIRECT HIT}) missing from font(s) DejaVu Sans.\n",
      "  plt.savefig(f'{plots_dir}/heart_rate_with_stations.png', dpi=300, bbox_inches='tight')\n"
     ]
    },
    {
     "name": "stderr",
     "output_type": "stream",
     "text": [
      "/var/folders/wn/kjhkcp0x4c94gmv1184_v4t00000gn/T/ipykernel_86541/564953549.py:95: UserWarning: Glyph 127919 (\\N{DIRECT HIT}) missing from font(s) DejaVu Sans.\n",
      "  plt.tight_layout()\n",
      "/var/folders/wn/kjhkcp0x4c94gmv1184_v4t00000gn/T/ipykernel_86541/564953549.py:98: UserWarning: Glyph 127919 (\\N{DIRECT HIT}) missing from font(s) DejaVu Sans.\n",
      "  plt.savefig(f'{plots_dir}/heart_rate_with_stations.png', dpi=300, bbox_inches='tight')\n"
     ]
    },
    {
     "name": "stderr",
     "output_type": "stream",
     "text": [
      "/var/folders/wn/kjhkcp0x4c94gmv1184_v4t00000gn/T/ipykernel_86541/564953549.py:95: UserWarning: Glyph 127919 (\\N{DIRECT HIT}) missing from font(s) DejaVu Sans.\n",
      "  plt.tight_layout()\n",
      "/var/folders/wn/kjhkcp0x4c94gmv1184_v4t00000gn/T/ipykernel_86541/564953549.py:98: UserWarning: Glyph 127919 (\\N{DIRECT HIT}) missing from font(s) DejaVu Sans.\n",
      "  plt.savefig(f'{plots_dir}/heart_rate_with_stations.png', dpi=300, bbox_inches='tight')\n"
     ]
    },
    {
     "name": "stderr",
     "output_type": "stream",
     "text": [
      "/var/folders/wn/kjhkcp0x4c94gmv1184_v4t00000gn/T/ipykernel_86541/564953549.py:95: UserWarning: Glyph 127919 (\\N{DIRECT HIT}) missing from font(s) DejaVu Sans.\n",
      "  plt.tight_layout()\n",
      "/var/folders/wn/kjhkcp0x4c94gmv1184_v4t00000gn/T/ipykernel_86541/564953549.py:98: UserWarning: Glyph 127919 (\\N{DIRECT HIT}) missing from font(s) DejaVu Sans.\n",
      "  plt.savefig(f'{plots_dir}/heart_rate_with_stations.png', dpi=300, bbox_inches='tight')\n"
     ]
    },
    {
     "name": "stderr",
     "output_type": "stream",
     "text": [
      "/var/folders/wn/kjhkcp0x4c94gmv1184_v4t00000gn/T/ipykernel_86541/564953549.py:95: UserWarning: Glyph 127919 (\\N{DIRECT HIT}) missing from font(s) DejaVu Sans.\n",
      "  plt.tight_layout()\n",
      "/var/folders/wn/kjhkcp0x4c94gmv1184_v4t00000gn/T/ipykernel_86541/564953549.py:98: UserWarning: Glyph 127919 (\\N{DIRECT HIT}) missing from font(s) DejaVu Sans.\n",
      "  plt.savefig(f'{plots_dir}/heart_rate_with_stations.png', dpi=300, bbox_inches='tight')\n"
     ]
    },
    {
     "name": "stderr",
     "output_type": "stream",
     "text": [
      "/var/folders/wn/kjhkcp0x4c94gmv1184_v4t00000gn/T/ipykernel_86541/564953549.py:95: UserWarning: Glyph 127919 (\\N{DIRECT HIT}) missing from font(s) DejaVu Sans.\n",
      "  plt.tight_layout()\n",
      "/var/folders/wn/kjhkcp0x4c94gmv1184_v4t00000gn/T/ipykernel_86541/564953549.py:98: UserWarning: Glyph 127919 (\\N{DIRECT HIT}) missing from font(s) DejaVu Sans.\n",
      "  plt.savefig(f'{plots_dir}/heart_rate_with_stations.png', dpi=300, bbox_inches='tight')\n"
     ]
    },
    {
     "name": "stderr",
     "output_type": "stream",
     "text": [
      "/var/folders/wn/kjhkcp0x4c94gmv1184_v4t00000gn/T/ipykernel_86541/564953549.py:95: UserWarning: Glyph 127919 (\\N{DIRECT HIT}) missing from font(s) DejaVu Sans.\n",
      "  plt.tight_layout()\n",
      "/var/folders/wn/kjhkcp0x4c94gmv1184_v4t00000gn/T/ipykernel_86541/564953549.py:98: UserWarning: Glyph 127919 (\\N{DIRECT HIT}) missing from font(s) DejaVu Sans.\n",
      "  plt.savefig(f'{plots_dir}/heart_rate_with_stations.png', dpi=300, bbox_inches='tight')\n"
     ]
    },
    {
     "name": "stderr",
     "output_type": "stream",
     "text": [
      "/var/folders/wn/kjhkcp0x4c94gmv1184_v4t00000gn/T/ipykernel_86541/564953549.py:95: UserWarning: Glyph 127919 (\\N{DIRECT HIT}) missing from font(s) DejaVu Sans.\n",
      "  plt.tight_layout()\n",
      "/var/folders/wn/kjhkcp0x4c94gmv1184_v4t00000gn/T/ipykernel_86541/564953549.py:98: UserWarning: Glyph 127919 (\\N{DIRECT HIT}) missing from font(s) DejaVu Sans.\n",
      "  plt.savefig(f'{plots_dir}/heart_rate_with_stations.png', dpi=300, bbox_inches='tight')\n"
     ]
    },
    {
     "name": "stderr",
     "output_type": "stream",
     "text": [
      "/var/folders/wn/kjhkcp0x4c94gmv1184_v4t00000gn/T/ipykernel_86541/564953549.py:95: UserWarning: Glyph 127919 (\\N{DIRECT HIT}) missing from font(s) DejaVu Sans.\n",
      "  plt.tight_layout()\n",
      "/var/folders/wn/kjhkcp0x4c94gmv1184_v4t00000gn/T/ipykernel_86541/564953549.py:98: UserWarning: Glyph 127919 (\\N{DIRECT HIT}) missing from font(s) DejaVu Sans.\n",
      "  plt.savefig(f'{plots_dir}/heart_rate_with_stations.png', dpi=300, bbox_inches='tight')\n"
     ]
    },
    {
     "name": "stderr",
     "output_type": "stream",
     "text": [
      "/var/folders/wn/kjhkcp0x4c94gmv1184_v4t00000gn/T/ipykernel_86541/564953549.py:95: UserWarning: Glyph 127919 (\\N{DIRECT HIT}) missing from font(s) DejaVu Sans.\n",
      "  plt.tight_layout()\n",
      "/var/folders/wn/kjhkcp0x4c94gmv1184_v4t00000gn/T/ipykernel_86541/564953549.py:98: UserWarning: Glyph 127919 (\\N{DIRECT HIT}) missing from font(s) DejaVu Sans.\n",
      "  plt.savefig(f'{plots_dir}/heart_rate_with_stations.png', dpi=300, bbox_inches='tight')\n"
     ]
    },
    {
     "name": "stderr",
     "output_type": "stream",
     "text": [
      "/var/folders/wn/kjhkcp0x4c94gmv1184_v4t00000gn/T/ipykernel_86541/564953549.py:95: UserWarning: Glyph 127919 (\\N{DIRECT HIT}) missing from font(s) DejaVu Sans.\n",
      "  plt.tight_layout()\n",
      "/var/folders/wn/kjhkcp0x4c94gmv1184_v4t00000gn/T/ipykernel_86541/564953549.py:98: UserWarning: Glyph 127919 (\\N{DIRECT HIT}) missing from font(s) DejaVu Sans.\n",
      "  plt.savefig(f'{plots_dir}/heart_rate_with_stations.png', dpi=300, bbox_inches='tight')\n"
     ]
    },
    {
     "name": "stderr",
     "output_type": "stream",
     "text": [
      "/var/folders/wn/kjhkcp0x4c94gmv1184_v4t00000gn/T/ipykernel_86541/564953549.py:95: UserWarning: Glyph 127919 (\\N{DIRECT HIT}) missing from font(s) DejaVu Sans.\n",
      "  plt.tight_layout()\n",
      "/var/folders/wn/kjhkcp0x4c94gmv1184_v4t00000gn/T/ipykernel_86541/564953549.py:98: UserWarning: Glyph 127919 (\\N{DIRECT HIT}) missing from font(s) DejaVu Sans.\n",
      "  plt.savefig(f'{plots_dir}/heart_rate_with_stations.png', dpi=300, bbox_inches='tight')\n"
     ]
    },
    {
     "name": "stderr",
     "output_type": "stream",
     "text": [
      "/var/folders/wn/kjhkcp0x4c94gmv1184_v4t00000gn/T/ipykernel_86541/564953549.py:95: UserWarning: Glyph 127919 (\\N{DIRECT HIT}) missing from font(s) DejaVu Sans.\n",
      "  plt.tight_layout()\n",
      "/var/folders/wn/kjhkcp0x4c94gmv1184_v4t00000gn/T/ipykernel_86541/564953549.py:98: UserWarning: Glyph 127919 (\\N{DIRECT HIT}) missing from font(s) DejaVu Sans.\n",
      "  plt.savefig(f'{plots_dir}/heart_rate_with_stations.png', dpi=300, bbox_inches='tight')\n"
     ]
    },
    {
     "name": "stderr",
     "output_type": "stream",
     "text": [
      "/var/folders/wn/kjhkcp0x4c94gmv1184_v4t00000gn/T/ipykernel_86541/564953549.py:95: UserWarning: Glyph 127919 (\\N{DIRECT HIT}) missing from font(s) DejaVu Sans.\n",
      "  plt.tight_layout()\n",
      "/var/folders/wn/kjhkcp0x4c94gmv1184_v4t00000gn/T/ipykernel_86541/564953549.py:98: UserWarning: Glyph 127919 (\\N{DIRECT HIT}) missing from font(s) DejaVu Sans.\n",
      "  plt.savefig(f'{plots_dir}/heart_rate_with_stations.png', dpi=300, bbox_inches='tight')\n"
     ]
    },
    {
     "name": "stderr",
     "output_type": "stream",
     "text": [
      "/var/folders/wn/kjhkcp0x4c94gmv1184_v4t00000gn/T/ipykernel_86541/564953549.py:95: UserWarning: Glyph 127919 (\\N{DIRECT HIT}) missing from font(s) DejaVu Sans.\n",
      "  plt.tight_layout()\n",
      "/var/folders/wn/kjhkcp0x4c94gmv1184_v4t00000gn/T/ipykernel_86541/564953549.py:98: UserWarning: Glyph 127919 (\\N{DIRECT HIT}) missing from font(s) DejaVu Sans.\n",
      "  plt.savefig(f'{plots_dir}/heart_rate_with_stations.png', dpi=300, bbox_inches='tight')\n"
     ]
    },
    {
     "name": "stderr",
     "output_type": "stream",
     "text": [
      "/var/folders/wn/kjhkcp0x4c94gmv1184_v4t00000gn/T/ipykernel_86541/564953549.py:95: UserWarning: Glyph 127919 (\\N{DIRECT HIT}) missing from font(s) DejaVu Sans.\n",
      "  plt.tight_layout()\n",
      "/var/folders/wn/kjhkcp0x4c94gmv1184_v4t00000gn/T/ipykernel_86541/564953549.py:98: UserWarning: Glyph 127919 (\\N{DIRECT HIT}) missing from font(s) DejaVu Sans.\n",
      "  plt.savefig(f'{plots_dir}/heart_rate_with_stations.png', dpi=300, bbox_inches='tight')\n"
     ]
    },
    {
     "name": "stderr",
     "output_type": "stream",
     "text": [
      "/var/folders/wn/kjhkcp0x4c94gmv1184_v4t00000gn/T/ipykernel_86541/564953549.py:95: UserWarning: Glyph 127919 (\\N{DIRECT HIT}) missing from font(s) DejaVu Sans.\n",
      "  plt.tight_layout()\n",
      "/var/folders/wn/kjhkcp0x4c94gmv1184_v4t00000gn/T/ipykernel_86541/564953549.py:98: UserWarning: Glyph 127919 (\\N{DIRECT HIT}) missing from font(s) DejaVu Sans.\n",
      "  plt.savefig(f'{plots_dir}/heart_rate_with_stations.png', dpi=300, bbox_inches='tight')\n"
     ]
    },
    {
     "name": "stderr",
     "output_type": "stream",
     "text": [
      "/var/folders/wn/kjhkcp0x4c94gmv1184_v4t00000gn/T/ipykernel_86541/564953549.py:95: UserWarning: Glyph 127919 (\\N{DIRECT HIT}) missing from font(s) DejaVu Sans.\n",
      "  plt.tight_layout()\n",
      "/var/folders/wn/kjhkcp0x4c94gmv1184_v4t00000gn/T/ipykernel_86541/564953549.py:98: UserWarning: Glyph 127919 (\\N{DIRECT HIT}) missing from font(s) DejaVu Sans.\n",
      "  plt.savefig(f'{plots_dir}/heart_rate_with_stations.png', dpi=300, bbox_inches='tight')\n"
     ]
    },
    {
     "name": "stderr",
     "output_type": "stream",
     "text": [
      "/var/folders/wn/kjhkcp0x4c94gmv1184_v4t00000gn/T/ipykernel_86541/564953549.py:95: UserWarning: Glyph 127919 (\\N{DIRECT HIT}) missing from font(s) DejaVu Sans.\n",
      "  plt.tight_layout()\n",
      "/var/folders/wn/kjhkcp0x4c94gmv1184_v4t00000gn/T/ipykernel_86541/564953549.py:98: UserWarning: Glyph 127919 (\\N{DIRECT HIT}) missing from font(s) DejaVu Sans.\n",
      "  plt.savefig(f'{plots_dir}/heart_rate_with_stations.png', dpi=300, bbox_inches='tight')\n"
     ]
    },
    {
     "name": "stderr",
     "output_type": "stream",
     "text": [
      "/var/folders/wn/kjhkcp0x4c94gmv1184_v4t00000gn/T/ipykernel_86541/564953549.py:95: UserWarning: Glyph 127919 (\\N{DIRECT HIT}) missing from font(s) DejaVu Sans.\n",
      "  plt.tight_layout()\n",
      "/var/folders/wn/kjhkcp0x4c94gmv1184_v4t00000gn/T/ipykernel_86541/564953549.py:98: UserWarning: Glyph 127919 (\\N{DIRECT HIT}) missing from font(s) DejaVu Sans.\n",
      "  plt.savefig(f'{plots_dir}/heart_rate_with_stations.png', dpi=300, bbox_inches='tight')\n"
     ]
    },
    {
     "name": "stderr",
     "output_type": "stream",
     "text": [
      "/var/folders/wn/kjhkcp0x4c94gmv1184_v4t00000gn/T/ipykernel_86541/564953549.py:95: UserWarning: Glyph 127919 (\\N{DIRECT HIT}) missing from font(s) DejaVu Sans.\n",
      "  plt.tight_layout()\n",
      "/var/folders/wn/kjhkcp0x4c94gmv1184_v4t00000gn/T/ipykernel_86541/564953549.py:98: UserWarning: Glyph 127919 (\\N{DIRECT HIT}) missing from font(s) DejaVu Sans.\n",
      "  plt.savefig(f'{plots_dir}/heart_rate_with_stations.png', dpi=300, bbox_inches='tight')\n"
     ]
    },
    {
     "name": "stderr",
     "output_type": "stream",
     "text": [
      "/var/folders/wn/kjhkcp0x4c94gmv1184_v4t00000gn/T/ipykernel_86541/564953549.py:95: UserWarning: Glyph 127919 (\\N{DIRECT HIT}) missing from font(s) DejaVu Sans.\n",
      "  plt.tight_layout()\n",
      "/var/folders/wn/kjhkcp0x4c94gmv1184_v4t00000gn/T/ipykernel_86541/564953549.py:98: UserWarning: Glyph 127919 (\\N{DIRECT HIT}) missing from font(s) DejaVu Sans.\n",
      "  plt.savefig(f'{plots_dir}/heart_rate_with_stations.png', dpi=300, bbox_inches='tight')\n"
     ]
    },
    {
     "name": "stderr",
     "output_type": "stream",
     "text": [
      "/var/folders/wn/kjhkcp0x4c94gmv1184_v4t00000gn/T/ipykernel_86541/564953549.py:95: UserWarning: Glyph 127919 (\\N{DIRECT HIT}) missing from font(s) DejaVu Sans.\n",
      "  plt.tight_layout()\n",
      "/var/folders/wn/kjhkcp0x4c94gmv1184_v4t00000gn/T/ipykernel_86541/564953549.py:98: UserWarning: Glyph 127919 (\\N{DIRECT HIT}) missing from font(s) DejaVu Sans.\n",
      "  plt.savefig(f'{plots_dir}/heart_rate_with_stations.png', dpi=300, bbox_inches='tight')\n"
     ]
    },
    {
     "name": "stderr",
     "output_type": "stream",
     "text": [
      "/var/folders/wn/kjhkcp0x4c94gmv1184_v4t00000gn/T/ipykernel_86541/564953549.py:95: UserWarning: Glyph 127919 (\\N{DIRECT HIT}) missing from font(s) DejaVu Sans.\n",
      "  plt.tight_layout()\n",
      "/var/folders/wn/kjhkcp0x4c94gmv1184_v4t00000gn/T/ipykernel_86541/564953549.py:98: UserWarning: Glyph 127919 (\\N{DIRECT HIT}) missing from font(s) DejaVu Sans.\n",
      "  plt.savefig(f'{plots_dir}/heart_rate_with_stations.png', dpi=300, bbox_inches='tight')\n"
     ]
    },
    {
     "name": "stderr",
     "output_type": "stream",
     "text": [
      "/var/folders/wn/kjhkcp0x4c94gmv1184_v4t00000gn/T/ipykernel_86541/564953549.py:95: UserWarning: Glyph 127919 (\\N{DIRECT HIT}) missing from font(s) DejaVu Sans.\n",
      "  plt.tight_layout()\n",
      "/var/folders/wn/kjhkcp0x4c94gmv1184_v4t00000gn/T/ipykernel_86541/564953549.py:98: UserWarning: Glyph 127919 (\\N{DIRECT HIT}) missing from font(s) DejaVu Sans.\n",
      "  plt.savefig(f'{plots_dir}/heart_rate_with_stations.png', dpi=300, bbox_inches='tight')\n"
     ]
    },
    {
     "name": "stderr",
     "output_type": "stream",
     "text": [
      "/var/folders/wn/kjhkcp0x4c94gmv1184_v4t00000gn/T/ipykernel_86541/564953549.py:95: UserWarning: Glyph 127919 (\\N{DIRECT HIT}) missing from font(s) DejaVu Sans.\n",
      "  plt.tight_layout()\n",
      "/var/folders/wn/kjhkcp0x4c94gmv1184_v4t00000gn/T/ipykernel_86541/564953549.py:98: UserWarning: Glyph 127919 (\\N{DIRECT HIT}) missing from font(s) DejaVu Sans.\n",
      "  plt.savefig(f'{plots_dir}/heart_rate_with_stations.png', dpi=300, bbox_inches='tight')\n"
     ]
    },
    {
     "name": "stderr",
     "output_type": "stream",
     "text": [
      "/var/folders/wn/kjhkcp0x4c94gmv1184_v4t00000gn/T/ipykernel_86541/564953549.py:95: UserWarning: Glyph 127919 (\\N{DIRECT HIT}) missing from font(s) DejaVu Sans.\n",
      "  plt.tight_layout()\n",
      "/var/folders/wn/kjhkcp0x4c94gmv1184_v4t00000gn/T/ipykernel_86541/564953549.py:98: UserWarning: Glyph 127919 (\\N{DIRECT HIT}) missing from font(s) DejaVu Sans.\n",
      "  plt.savefig(f'{plots_dir}/heart_rate_with_stations.png', dpi=300, bbox_inches='tight')\n"
     ]
    },
    {
     "name": "stderr",
     "output_type": "stream",
     "text": [
      "/var/folders/wn/kjhkcp0x4c94gmv1184_v4t00000gn/T/ipykernel_86541/564953549.py:95: UserWarning: Glyph 127919 (\\N{DIRECT HIT}) missing from font(s) DejaVu Sans.\n",
      "  plt.tight_layout()\n",
      "/var/folders/wn/kjhkcp0x4c94gmv1184_v4t00000gn/T/ipykernel_86541/564953549.py:98: UserWarning: Glyph 127919 (\\N{DIRECT HIT}) missing from font(s) DejaVu Sans.\n",
      "  plt.savefig(f'{plots_dir}/heart_rate_with_stations.png', dpi=300, bbox_inches='tight')\n"
     ]
    },
    {
     "name": "stderr",
     "output_type": "stream",
     "text": [
      "/var/folders/wn/kjhkcp0x4c94gmv1184_v4t00000gn/T/ipykernel_86541/564953549.py:95: UserWarning: Glyph 127919 (\\N{DIRECT HIT}) missing from font(s) DejaVu Sans.\n",
      "  plt.tight_layout()\n",
      "/var/folders/wn/kjhkcp0x4c94gmv1184_v4t00000gn/T/ipykernel_86541/564953549.py:98: UserWarning: Glyph 127919 (\\N{DIRECT HIT}) missing from font(s) DejaVu Sans.\n",
      "  plt.savefig(f'{plots_dir}/heart_rate_with_stations.png', dpi=300, bbox_inches='tight')\n"
     ]
    },
    {
     "name": "stderr",
     "output_type": "stream",
     "text": [
      "/var/folders/wn/kjhkcp0x4c94gmv1184_v4t00000gn/T/ipykernel_86541/564953549.py:95: UserWarning: Glyph 127919 (\\N{DIRECT HIT}) missing from font(s) DejaVu Sans.\n",
      "  plt.tight_layout()\n",
      "/var/folders/wn/kjhkcp0x4c94gmv1184_v4t00000gn/T/ipykernel_86541/564953549.py:98: UserWarning: Glyph 127919 (\\N{DIRECT HIT}) missing from font(s) DejaVu Sans.\n",
      "  plt.savefig(f'{plots_dir}/heart_rate_with_stations.png', dpi=300, bbox_inches='tight')\n"
     ]
    },
    {
     "name": "stderr",
     "output_type": "stream",
     "text": [
      "/var/folders/wn/kjhkcp0x4c94gmv1184_v4t00000gn/T/ipykernel_86541/564953549.py:95: UserWarning: Glyph 127919 (\\N{DIRECT HIT}) missing from font(s) DejaVu Sans.\n",
      "  plt.tight_layout()\n",
      "/var/folders/wn/kjhkcp0x4c94gmv1184_v4t00000gn/T/ipykernel_86541/564953549.py:98: UserWarning: Glyph 127919 (\\N{DIRECT HIT}) missing from font(s) DejaVu Sans.\n",
      "  plt.savefig(f'{plots_dir}/heart_rate_with_stations.png', dpi=300, bbox_inches='tight')\n"
     ]
    },
    {
     "name": "stderr",
     "output_type": "stream",
     "text": [
      "/var/folders/wn/kjhkcp0x4c94gmv1184_v4t00000gn/T/ipykernel_86541/564953549.py:95: UserWarning: Glyph 127919 (\\N{DIRECT HIT}) missing from font(s) DejaVu Sans.\n",
      "  plt.tight_layout()\n",
      "/var/folders/wn/kjhkcp0x4c94gmv1184_v4t00000gn/T/ipykernel_86541/564953549.py:98: UserWarning: Glyph 127919 (\\N{DIRECT HIT}) missing from font(s) DejaVu Sans.\n",
      "  plt.savefig(f'{plots_dir}/heart_rate_with_stations.png', dpi=300, bbox_inches='tight')\n"
     ]
    },
    {
     "name": "stderr",
     "output_type": "stream",
     "text": [
      "/var/folders/wn/kjhkcp0x4c94gmv1184_v4t00000gn/T/ipykernel_86541/564953549.py:95: UserWarning: Glyph 127919 (\\N{DIRECT HIT}) missing from font(s) DejaVu Sans.\n",
      "  plt.tight_layout()\n",
      "/var/folders/wn/kjhkcp0x4c94gmv1184_v4t00000gn/T/ipykernel_86541/564953549.py:98: UserWarning: Glyph 127919 (\\N{DIRECT HIT}) missing from font(s) DejaVu Sans.\n",
      "  plt.savefig(f'{plots_dir}/heart_rate_with_stations.png', dpi=300, bbox_inches='tight')\n"
     ]
    },
    {
     "name": "stderr",
     "output_type": "stream",
     "text": [
      "/var/folders/wn/kjhkcp0x4c94gmv1184_v4t00000gn/T/ipykernel_86541/564953549.py:95: UserWarning: Glyph 127919 (\\N{DIRECT HIT}) missing from font(s) DejaVu Sans.\n",
      "  plt.tight_layout()\n",
      "/var/folders/wn/kjhkcp0x4c94gmv1184_v4t00000gn/T/ipykernel_86541/564953549.py:98: UserWarning: Glyph 127919 (\\N{DIRECT HIT}) missing from font(s) DejaVu Sans.\n",
      "  plt.savefig(f'{plots_dir}/heart_rate_with_stations.png', dpi=300, bbox_inches='tight')\n"
     ]
    },
    {
     "name": "stderr",
     "output_type": "stream",
     "text": [
      "/var/folders/wn/kjhkcp0x4c94gmv1184_v4t00000gn/T/ipykernel_86541/564953549.py:95: UserWarning: Glyph 127919 (\\N{DIRECT HIT}) missing from font(s) DejaVu Sans.\n",
      "  plt.tight_layout()\n",
      "/var/folders/wn/kjhkcp0x4c94gmv1184_v4t00000gn/T/ipykernel_86541/564953549.py:98: UserWarning: Glyph 127919 (\\N{DIRECT HIT}) missing from font(s) DejaVu Sans.\n",
      "  plt.savefig(f'{plots_dir}/heart_rate_with_stations.png', dpi=300, bbox_inches='tight')\n"
     ]
    },
    {
     "name": "stderr",
     "output_type": "stream",
     "text": [
      "/var/folders/wn/kjhkcp0x4c94gmv1184_v4t00000gn/T/ipykernel_86541/564953549.py:95: UserWarning: Glyph 127919 (\\N{DIRECT HIT}) missing from font(s) DejaVu Sans.\n",
      "  plt.tight_layout()\n",
      "/var/folders/wn/kjhkcp0x4c94gmv1184_v4t00000gn/T/ipykernel_86541/564953549.py:98: UserWarning: Glyph 127919 (\\N{DIRECT HIT}) missing from font(s) DejaVu Sans.\n",
      "  plt.savefig(f'{plots_dir}/heart_rate_with_stations.png', dpi=300, bbox_inches='tight')\n"
     ]
    },
    {
     "name": "stderr",
     "output_type": "stream",
     "text": [
      "/var/folders/wn/kjhkcp0x4c94gmv1184_v4t00000gn/T/ipykernel_86541/564953549.py:95: UserWarning: Glyph 127919 (\\N{DIRECT HIT}) missing from font(s) DejaVu Sans.\n",
      "  plt.tight_layout()\n",
      "/var/folders/wn/kjhkcp0x4c94gmv1184_v4t00000gn/T/ipykernel_86541/564953549.py:98: UserWarning: Glyph 127919 (\\N{DIRECT HIT}) missing from font(s) DejaVu Sans.\n",
      "  plt.savefig(f'{plots_dir}/heart_rate_with_stations.png', dpi=300, bbox_inches='tight')\n"
     ]
    },
    {
     "name": "stderr",
     "output_type": "stream",
     "text": [
      "/var/folders/wn/kjhkcp0x4c94gmv1184_v4t00000gn/T/ipykernel_86541/564953549.py:95: UserWarning: Glyph 127919 (\\N{DIRECT HIT}) missing from font(s) DejaVu Sans.\n",
      "  plt.tight_layout()\n",
      "/var/folders/wn/kjhkcp0x4c94gmv1184_v4t00000gn/T/ipykernel_86541/564953549.py:98: UserWarning: Glyph 127919 (\\N{DIRECT HIT}) missing from font(s) DejaVu Sans.\n",
      "  plt.savefig(f'{plots_dir}/heart_rate_with_stations.png', dpi=300, bbox_inches='tight')\n"
     ]
    },
    {
     "name": "stderr",
     "output_type": "stream",
     "text": [
      "/var/folders/wn/kjhkcp0x4c94gmv1184_v4t00000gn/T/ipykernel_86541/564953549.py:95: UserWarning: Glyph 127919 (\\N{DIRECT HIT}) missing from font(s) DejaVu Sans.\n",
      "  plt.tight_layout()\n",
      "/var/folders/wn/kjhkcp0x4c94gmv1184_v4t00000gn/T/ipykernel_86541/564953549.py:98: UserWarning: Glyph 127919 (\\N{DIRECT HIT}) missing from font(s) DejaVu Sans.\n",
      "  plt.savefig(f'{plots_dir}/heart_rate_with_stations.png', dpi=300, bbox_inches='tight')\n"
     ]
    },
    {
     "name": "stderr",
     "output_type": "stream",
     "text": [
      "/var/folders/wn/kjhkcp0x4c94gmv1184_v4t00000gn/T/ipykernel_86541/564953549.py:95: UserWarning: Glyph 127919 (\\N{DIRECT HIT}) missing from font(s) DejaVu Sans.\n",
      "  plt.tight_layout()\n",
      "/var/folders/wn/kjhkcp0x4c94gmv1184_v4t00000gn/T/ipykernel_86541/564953549.py:98: UserWarning: Glyph 127919 (\\N{DIRECT HIT}) missing from font(s) DejaVu Sans.\n",
      "  plt.savefig(f'{plots_dir}/heart_rate_with_stations.png', dpi=300, bbox_inches='tight')\n"
     ]
    },
    {
     "name": "stderr",
     "output_type": "stream",
     "text": [
      "/var/folders/wn/kjhkcp0x4c94gmv1184_v4t00000gn/T/ipykernel_86541/564953549.py:95: UserWarning: Glyph 127919 (\\N{DIRECT HIT}) missing from font(s) DejaVu Sans.\n",
      "  plt.tight_layout()\n",
      "/var/folders/wn/kjhkcp0x4c94gmv1184_v4t00000gn/T/ipykernel_86541/564953549.py:98: UserWarning: Glyph 127919 (\\N{DIRECT HIT}) missing from font(s) DejaVu Sans.\n",
      "  plt.savefig(f'{plots_dir}/heart_rate_with_stations.png', dpi=300, bbox_inches='tight')\n"
     ]
    },
    {
     "name": "stderr",
     "output_type": "stream",
     "text": [
      "/var/folders/wn/kjhkcp0x4c94gmv1184_v4t00000gn/T/ipykernel_86541/564953549.py:95: UserWarning: Glyph 127919 (\\N{DIRECT HIT}) missing from font(s) DejaVu Sans.\n",
      "  plt.tight_layout()\n",
      "/var/folders/wn/kjhkcp0x4c94gmv1184_v4t00000gn/T/ipykernel_86541/564953549.py:98: UserWarning: Glyph 127919 (\\N{DIRECT HIT}) missing from font(s) DejaVu Sans.\n",
      "  plt.savefig(f'{plots_dir}/heart_rate_with_stations.png', dpi=300, bbox_inches='tight')\n"
     ]
    },
    {
     "name": "stderr",
     "output_type": "stream",
     "text": [
      "/var/folders/wn/kjhkcp0x4c94gmv1184_v4t00000gn/T/ipykernel_86541/564953549.py:95: UserWarning: Glyph 127919 (\\N{DIRECT HIT}) missing from font(s) DejaVu Sans.\n",
      "  plt.tight_layout()\n",
      "/var/folders/wn/kjhkcp0x4c94gmv1184_v4t00000gn/T/ipykernel_86541/564953549.py:98: UserWarning: Glyph 127919 (\\N{DIRECT HIT}) missing from font(s) DejaVu Sans.\n",
      "  plt.savefig(f'{plots_dir}/heart_rate_with_stations.png', dpi=300, bbox_inches='tight')\n"
     ]
    },
    {
     "name": "stderr",
     "output_type": "stream",
     "text": [
      "/var/folders/wn/kjhkcp0x4c94gmv1184_v4t00000gn/T/ipykernel_86541/564953549.py:95: UserWarning: Glyph 127919 (\\N{DIRECT HIT}) missing from font(s) DejaVu Sans.\n",
      "  plt.tight_layout()\n",
      "/var/folders/wn/kjhkcp0x4c94gmv1184_v4t00000gn/T/ipykernel_86541/564953549.py:98: UserWarning: Glyph 127919 (\\N{DIRECT HIT}) missing from font(s) DejaVu Sans.\n",
      "  plt.savefig(f'{plots_dir}/heart_rate_with_stations.png', dpi=300, bbox_inches='tight')\n"
     ]
    },
    {
     "name": "stderr",
     "output_type": "stream",
     "text": [
      "/var/folders/wn/kjhkcp0x4c94gmv1184_v4t00000gn/T/ipykernel_86541/564953549.py:95: UserWarning: Glyph 127919 (\\N{DIRECT HIT}) missing from font(s) DejaVu Sans.\n",
      "  plt.tight_layout()\n",
      "/var/folders/wn/kjhkcp0x4c94gmv1184_v4t00000gn/T/ipykernel_86541/564953549.py:98: UserWarning: Glyph 127919 (\\N{DIRECT HIT}) missing from font(s) DejaVu Sans.\n",
      "  plt.savefig(f'{plots_dir}/heart_rate_with_stations.png', dpi=300, bbox_inches='tight')\n"
     ]
    },
    {
     "name": "stderr",
     "output_type": "stream",
     "text": [
      "/var/folders/wn/kjhkcp0x4c94gmv1184_v4t00000gn/T/ipykernel_86541/564953549.py:95: UserWarning: Glyph 127919 (\\N{DIRECT HIT}) missing from font(s) DejaVu Sans.\n",
      "  plt.tight_layout()\n",
      "/var/folders/wn/kjhkcp0x4c94gmv1184_v4t00000gn/T/ipykernel_86541/564953549.py:98: UserWarning: Glyph 127919 (\\N{DIRECT HIT}) missing from font(s) DejaVu Sans.\n",
      "  plt.savefig(f'{plots_dir}/heart_rate_with_stations.png', dpi=300, bbox_inches='tight')\n"
     ]
    },
    {
     "name": "stderr",
     "output_type": "stream",
     "text": [
      "/var/folders/wn/kjhkcp0x4c94gmv1184_v4t00000gn/T/ipykernel_86541/564953549.py:95: UserWarning: Glyph 127919 (\\N{DIRECT HIT}) missing from font(s) DejaVu Sans.\n",
      "  plt.tight_layout()\n",
      "/var/folders/wn/kjhkcp0x4c94gmv1184_v4t00000gn/T/ipykernel_86541/564953549.py:98: UserWarning: Glyph 127919 (\\N{DIRECT HIT}) missing from font(s) DejaVu Sans.\n",
      "  plt.savefig(f'{plots_dir}/heart_rate_with_stations.png', dpi=300, bbox_inches='tight')\n"
     ]
    },
    {
     "name": "stderr",
     "output_type": "stream",
     "text": [
      "/var/folders/wn/kjhkcp0x4c94gmv1184_v4t00000gn/T/ipykernel_86541/564953549.py:95: UserWarning: Glyph 127919 (\\N{DIRECT HIT}) missing from font(s) DejaVu Sans.\n",
      "  plt.tight_layout()\n",
      "/var/folders/wn/kjhkcp0x4c94gmv1184_v4t00000gn/T/ipykernel_86541/564953549.py:98: UserWarning: Glyph 127919 (\\N{DIRECT HIT}) missing from font(s) DejaVu Sans.\n",
      "  plt.savefig(f'{plots_dir}/heart_rate_with_stations.png', dpi=300, bbox_inches='tight')\n"
     ]
    },
    {
     "name": "stderr",
     "output_type": "stream",
     "text": [
      "/var/folders/wn/kjhkcp0x4c94gmv1184_v4t00000gn/T/ipykernel_86541/564953549.py:95: UserWarning: Glyph 127919 (\\N{DIRECT HIT}) missing from font(s) DejaVu Sans.\n",
      "  plt.tight_layout()\n",
      "/var/folders/wn/kjhkcp0x4c94gmv1184_v4t00000gn/T/ipykernel_86541/564953549.py:98: UserWarning: Glyph 127919 (\\N{DIRECT HIT}) missing from font(s) DejaVu Sans.\n",
      "  plt.savefig(f'{plots_dir}/heart_rate_with_stations.png', dpi=300, bbox_inches='tight')\n"
     ]
    },
    {
     "name": "stderr",
     "output_type": "stream",
     "text": [
      "/var/folders/wn/kjhkcp0x4c94gmv1184_v4t00000gn/T/ipykernel_86541/564953549.py:95: UserWarning: Glyph 127919 (\\N{DIRECT HIT}) missing from font(s) DejaVu Sans.\n",
      "  plt.tight_layout()\n",
      "/var/folders/wn/kjhkcp0x4c94gmv1184_v4t00000gn/T/ipykernel_86541/564953549.py:98: UserWarning: Glyph 127919 (\\N{DIRECT HIT}) missing from font(s) DejaVu Sans.\n",
      "  plt.savefig(f'{plots_dir}/heart_rate_with_stations.png', dpi=300, bbox_inches='tight')\n"
     ]
    },
    {
     "name": "stderr",
     "output_type": "stream",
     "text": [
      "/var/folders/wn/kjhkcp0x4c94gmv1184_v4t00000gn/T/ipykernel_86541/564953549.py:95: UserWarning: Glyph 127919 (\\N{DIRECT HIT}) missing from font(s) DejaVu Sans.\n",
      "  plt.tight_layout()\n",
      "/var/folders/wn/kjhkcp0x4c94gmv1184_v4t00000gn/T/ipykernel_86541/564953549.py:98: UserWarning: Glyph 127919 (\\N{DIRECT HIT}) missing from font(s) DejaVu Sans.\n",
      "  plt.savefig(f'{plots_dir}/heart_rate_with_stations.png', dpi=300, bbox_inches='tight')\n"
     ]
    },
    {
     "name": "stderr",
     "output_type": "stream",
     "text": [
      "/var/folders/wn/kjhkcp0x4c94gmv1184_v4t00000gn/T/ipykernel_86541/564953549.py:95: UserWarning: Glyph 127919 (\\N{DIRECT HIT}) missing from font(s) DejaVu Sans.\n",
      "  plt.tight_layout()\n",
      "/var/folders/wn/kjhkcp0x4c94gmv1184_v4t00000gn/T/ipykernel_86541/564953549.py:98: UserWarning: Glyph 127919 (\\N{DIRECT HIT}) missing from font(s) DejaVu Sans.\n",
      "  plt.savefig(f'{plots_dir}/heart_rate_with_stations.png', dpi=300, bbox_inches='tight')\n"
     ]
    },
    {
     "name": "stderr",
     "output_type": "stream",
     "text": [
      "/var/folders/wn/kjhkcp0x4c94gmv1184_v4t00000gn/T/ipykernel_86541/564953549.py:95: UserWarning: Glyph 127919 (\\N{DIRECT HIT}) missing from font(s) DejaVu Sans.\n",
      "  plt.tight_layout()\n",
      "/var/folders/wn/kjhkcp0x4c94gmv1184_v4t00000gn/T/ipykernel_86541/564953549.py:98: UserWarning: Glyph 127919 (\\N{DIRECT HIT}) missing from font(s) DejaVu Sans.\n",
      "  plt.savefig(f'{plots_dir}/heart_rate_with_stations.png', dpi=300, bbox_inches='tight')\n"
     ]
    },
    {
     "name": "stderr",
     "output_type": "stream",
     "text": [
      "/var/folders/wn/kjhkcp0x4c94gmv1184_v4t00000gn/T/ipykernel_86541/564953549.py:95: UserWarning: Glyph 127919 (\\N{DIRECT HIT}) missing from font(s) DejaVu Sans.\n",
      "  plt.tight_layout()\n",
      "/var/folders/wn/kjhkcp0x4c94gmv1184_v4t00000gn/T/ipykernel_86541/564953549.py:98: UserWarning: Glyph 127919 (\\N{DIRECT HIT}) missing from font(s) DejaVu Sans.\n",
      "  plt.savefig(f'{plots_dir}/heart_rate_with_stations.png', dpi=300, bbox_inches='tight')\n"
     ]
    },
    {
     "name": "stderr",
     "output_type": "stream",
     "text": [
      "/var/folders/wn/kjhkcp0x4c94gmv1184_v4t00000gn/T/ipykernel_86541/564953549.py:95: UserWarning: Glyph 127919 (\\N{DIRECT HIT}) missing from font(s) DejaVu Sans.\n",
      "  plt.tight_layout()\n",
      "/var/folders/wn/kjhkcp0x4c94gmv1184_v4t00000gn/T/ipykernel_86541/564953549.py:98: UserWarning: Glyph 127919 (\\N{DIRECT HIT}) missing from font(s) DejaVu Sans.\n",
      "  plt.savefig(f'{plots_dir}/heart_rate_with_stations.png', dpi=300, bbox_inches='tight')\n"
     ]
    },
    {
     "name": "stderr",
     "output_type": "stream",
     "text": [
      "/var/folders/wn/kjhkcp0x4c94gmv1184_v4t00000gn/T/ipykernel_86541/564953549.py:95: UserWarning: Glyph 127919 (\\N{DIRECT HIT}) missing from font(s) DejaVu Sans.\n",
      "  plt.tight_layout()\n",
      "/var/folders/wn/kjhkcp0x4c94gmv1184_v4t00000gn/T/ipykernel_86541/564953549.py:98: UserWarning: Glyph 127919 (\\N{DIRECT HIT}) missing from font(s) DejaVu Sans.\n",
      "  plt.savefig(f'{plots_dir}/heart_rate_with_stations.png', dpi=300, bbox_inches='tight')\n"
     ]
    },
    {
     "name": "stderr",
     "output_type": "stream",
     "text": [
      "/var/folders/wn/kjhkcp0x4c94gmv1184_v4t00000gn/T/ipykernel_86541/564953549.py:95: UserWarning: Glyph 127919 (\\N{DIRECT HIT}) missing from font(s) DejaVu Sans.\n",
      "  plt.tight_layout()\n",
      "/var/folders/wn/kjhkcp0x4c94gmv1184_v4t00000gn/T/ipykernel_86541/564953549.py:98: UserWarning: Glyph 127919 (\\N{DIRECT HIT}) missing from font(s) DejaVu Sans.\n",
      "  plt.savefig(f'{plots_dir}/heart_rate_with_stations.png', dpi=300, bbox_inches='tight')\n"
     ]
    },
    {
     "name": "stderr",
     "output_type": "stream",
     "text": [
      "/var/folders/wn/kjhkcp0x4c94gmv1184_v4t00000gn/T/ipykernel_86541/564953549.py:95: UserWarning: Glyph 127919 (\\N{DIRECT HIT}) missing from font(s) DejaVu Sans.\n",
      "  plt.tight_layout()\n",
      "/var/folders/wn/kjhkcp0x4c94gmv1184_v4t00000gn/T/ipykernel_86541/564953549.py:98: UserWarning: Glyph 127919 (\\N{DIRECT HIT}) missing from font(s) DejaVu Sans.\n",
      "  plt.savefig(f'{plots_dir}/heart_rate_with_stations.png', dpi=300, bbox_inches='tight')\n"
     ]
    },
    {
     "name": "stderr",
     "output_type": "stream",
     "text": [
      "/var/folders/wn/kjhkcp0x4c94gmv1184_v4t00000gn/T/ipykernel_86541/564953549.py:95: UserWarning: Glyph 127919 (\\N{DIRECT HIT}) missing from font(s) DejaVu Sans.\n",
      "  plt.tight_layout()\n",
      "/var/folders/wn/kjhkcp0x4c94gmv1184_v4t00000gn/T/ipykernel_86541/564953549.py:98: UserWarning: Glyph 127919 (\\N{DIRECT HIT}) missing from font(s) DejaVu Sans.\n",
      "  plt.savefig(f'{plots_dir}/heart_rate_with_stations.png', dpi=300, bbox_inches='tight')\n"
     ]
    },
    {
     "name": "stderr",
     "output_type": "stream",
     "text": [
      "/var/folders/wn/kjhkcp0x4c94gmv1184_v4t00000gn/T/ipykernel_86541/564953549.py:95: UserWarning: Glyph 127919 (\\N{DIRECT HIT}) missing from font(s) DejaVu Sans.\n",
      "  plt.tight_layout()\n",
      "/var/folders/wn/kjhkcp0x4c94gmv1184_v4t00000gn/T/ipykernel_86541/564953549.py:98: UserWarning: Glyph 127919 (\\N{DIRECT HIT}) missing from font(s) DejaVu Sans.\n",
      "  plt.savefig(f'{plots_dir}/heart_rate_with_stations.png', dpi=300, bbox_inches='tight')\n"
     ]
    },
    {
     "name": "stderr",
     "output_type": "stream",
     "text": [
      "/var/folders/wn/kjhkcp0x4c94gmv1184_v4t00000gn/T/ipykernel_86541/564953549.py:95: UserWarning: Glyph 127919 (\\N{DIRECT HIT}) missing from font(s) DejaVu Sans.\n",
      "  plt.tight_layout()\n",
      "/var/folders/wn/kjhkcp0x4c94gmv1184_v4t00000gn/T/ipykernel_86541/564953549.py:98: UserWarning: Glyph 127919 (\\N{DIRECT HIT}) missing from font(s) DejaVu Sans.\n",
      "  plt.savefig(f'{plots_dir}/heart_rate_with_stations.png', dpi=300, bbox_inches='tight')\n"
     ]
    },
    {
     "name": "stderr",
     "output_type": "stream",
     "text": [
      "/var/folders/wn/kjhkcp0x4c94gmv1184_v4t00000gn/T/ipykernel_86541/564953549.py:95: UserWarning: Glyph 127919 (\\N{DIRECT HIT}) missing from font(s) DejaVu Sans.\n",
      "  plt.tight_layout()\n",
      "/var/folders/wn/kjhkcp0x4c94gmv1184_v4t00000gn/T/ipykernel_86541/564953549.py:98: UserWarning: Glyph 127919 (\\N{DIRECT HIT}) missing from font(s) DejaVu Sans.\n",
      "  plt.savefig(f'{plots_dir}/heart_rate_with_stations.png', dpi=300, bbox_inches='tight')\n"
     ]
    },
    {
     "name": "stderr",
     "output_type": "stream",
     "text": [
      "/var/folders/wn/kjhkcp0x4c94gmv1184_v4t00000gn/T/ipykernel_86541/564953549.py:95: UserWarning: Glyph 127919 (\\N{DIRECT HIT}) missing from font(s) DejaVu Sans.\n",
      "  plt.tight_layout()\n",
      "/var/folders/wn/kjhkcp0x4c94gmv1184_v4t00000gn/T/ipykernel_86541/564953549.py:98: UserWarning: Glyph 127919 (\\N{DIRECT HIT}) missing from font(s) DejaVu Sans.\n",
      "  plt.savefig(f'{plots_dir}/heart_rate_with_stations.png', dpi=300, bbox_inches='tight')\n"
     ]
    },
    {
     "name": "stderr",
     "output_type": "stream",
     "text": [
      "/var/folders/wn/kjhkcp0x4c94gmv1184_v4t00000gn/T/ipykernel_86541/564953549.py:95: UserWarning: Glyph 127919 (\\N{DIRECT HIT}) missing from font(s) DejaVu Sans.\n",
      "  plt.tight_layout()\n",
      "/var/folders/wn/kjhkcp0x4c94gmv1184_v4t00000gn/T/ipykernel_86541/564953549.py:98: UserWarning: Glyph 127919 (\\N{DIRECT HIT}) missing from font(s) DejaVu Sans.\n",
      "  plt.savefig(f'{plots_dir}/heart_rate_with_stations.png', dpi=300, bbox_inches='tight')\n"
     ]
    },
    {
     "name": "stderr",
     "output_type": "stream",
     "text": [
      "/var/folders/wn/kjhkcp0x4c94gmv1184_v4t00000gn/T/ipykernel_86541/564953549.py:95: UserWarning: Glyph 127919 (\\N{DIRECT HIT}) missing from font(s) DejaVu Sans.\n",
      "  plt.tight_layout()\n",
      "/var/folders/wn/kjhkcp0x4c94gmv1184_v4t00000gn/T/ipykernel_86541/564953549.py:98: UserWarning: Glyph 127919 (\\N{DIRECT HIT}) missing from font(s) DejaVu Sans.\n",
      "  plt.savefig(f'{plots_dir}/heart_rate_with_stations.png', dpi=300, bbox_inches='tight')\n"
     ]
    },
    {
     "name": "stderr",
     "output_type": "stream",
     "text": [
      "/var/folders/wn/kjhkcp0x4c94gmv1184_v4t00000gn/T/ipykernel_86541/564953549.py:95: UserWarning: Glyph 127919 (\\N{DIRECT HIT}) missing from font(s) DejaVu Sans.\n",
      "  plt.tight_layout()\n",
      "/var/folders/wn/kjhkcp0x4c94gmv1184_v4t00000gn/T/ipykernel_86541/564953549.py:98: UserWarning: Glyph 127919 (\\N{DIRECT HIT}) missing from font(s) DejaVu Sans.\n",
      "  plt.savefig(f'{plots_dir}/heart_rate_with_stations.png', dpi=300, bbox_inches='tight')\n"
     ]
    }
   ],
   "source": [
    "# STEP 4: DRAGGABLE Station Cutoffs - Use Individual Peaks\n",
    "\n",
    "current_cutoffs = []\n",
    "num_stations = len(peaks)\n",
    "\n",
    "if len(peaks) > 0:\n",
    "    print(f\"🎯 User {USER_ID} has {num_stations} detected stations (from {len(peaks)} individual peaks)\")\n",
    "    for i, peak_idx in enumerate(peaks):\n",
    "        peak_time = df['elapsed_min'].iloc[peak_idx]\n",
    "        if i == 0:\n",
    "            start_time = max(0, peak_time - 3.0)\n",
    "        else:\n",
    "            prev_peak_time = df['elapsed_min'].iloc[peaks[i-1]]\n",
    "            start_time = (prev_peak_time + peak_time) / 2\n",
    "        if i == len(peaks) - 1:\n",
    "            end_time = min(df['elapsed_min'].max(), peak_time + 3.0)\n",
    "        else:\n",
    "            next_peak_time = df['elapsed_min'].iloc[peaks[i+1]]\n",
    "            end_time = (peak_time + next_peak_time) / 2\n",
    "        if end_time - start_time < 2.0:\n",
    "            if i == 0:\n",
    "                end_time = start_time + 2.0\n",
    "            elif i == len(peaks) - 1:\n",
    "                start_time = end_time - 2.0\n",
    "            else:\n",
    "                needed_extension = (2.0 - (end_time - start_time)) / 2\n",
    "                start_time -= needed_extension\n",
    "                end_time += needed_extension\n",
    "        current_cutoffs.extend([start_time, end_time])\n",
    "    print(f\"📊 Automatically initialized {len(current_cutoffs)} cutoff lines from {num_stations} individual peaks\")\n",
    "    print(\"✅ Algorithm found the best station boundaries based on individual peaks!\")\n",
    "else:\n",
    "    print(f\"⚠️ No peaks detected, using 5 default stations for User {USER_ID}\")\n",
    "    session_duration = df['elapsed_min'].max()\n",
    "    num_stations = 5\n",
    "    station_duration = session_duration / num_stations\n",
    "    current_cutoffs = []\n",
    "    for i in range(num_stations):\n",
    "        start_time = i * station_duration + 1\n",
    "        end_time = (i + 1) * station_duration - 1\n",
    "        current_cutoffs.extend([start_time, end_time])\n",
    "    print(f\"📊 Created {num_stations} default stations\")\n",
    "\n",
    "# --- Widget code for draggable cutoffs (same as before) ---\n",
    "sliders = []\n",
    "for i in range(0, len(current_cutoffs), 2):\n",
    "    station_num = (i // 2) + 1\n",
    "    start_slider = widgets.FloatSlider(\n",
    "        value=current_cutoffs[i],\n",
    "        min=0,\n",
    "        max=df['elapsed_min'].max(),\n",
    "        step=0.1,\n",
    "        description=f'Station {station_num} Start:',\n",
    "        style={'description_width': '150px'},\n",
    "        layout=widgets.Layout(width='500px')\n",
    "    )\n",
    "    sliders.append(start_slider)\n",
    "    end_slider = widgets.FloatSlider(\n",
    "        value=current_cutoffs[i+1],\n",
    "        min=0,\n",
    "        max=df['elapsed_min'].max(),\n",
    "        step=0.1,\n",
    "        description=f'Station {station_num} End:',\n",
    "        style={'description_width': '150px'},\n",
    "        layout=widgets.Layout(width='500px')\n",
    "    )\n",
    "    sliders.append(end_slider)\n",
    "\n",
    "def update_plot(*args):\n",
    "    updated_cutoffs = [slider.value for slider in sliders]\n",
    "    fig, ax = plt.subplots(figsize=(14, 6))\n",
    "    x_min = current_x_offset\n",
    "    x_max = current_x_offset + (df['elapsed_min'].max() * current_x_scale) + 1.2\n",
    "    ax.imshow(img, aspect='auto', extent=[x_min, x_max, current_y_min, current_y_max], \n",
    "              alpha=current_alpha, zorder=0, interpolation='bilinear')\n",
    "    ax.plot(df['elapsed_min'], df['hr_smooth'], color='red', linewidth=3, label='Smoothed HR Data', zorder=2)\n",
    "    if len(peaks) > 0:\n",
    "        peak_times = df['elapsed_min'].iloc[peaks]\n",
    "        peak_hrs = df['hr_smooth'].iloc[peaks]\n",
    "        ax.scatter(peak_times, peak_hrs, color='yellow', s=120, edgecolors='black', linewidth=2, zorder=3,\n",
    "                  label=f'Detected Peaks ({len(peaks)})')\n",
    "    colors = ['orange', 'green', 'purple', 'brown', 'pink', 'cyan']\n",
    "    for i in range(0, len(updated_cutoffs), 2):\n",
    "        station_num = (i // 2) + 1\n",
    "        color = colors[(station_num - 1) % len(colors)]\n",
    "        ax.axvline(x=updated_cutoffs[i], color=color, linewidth=4, label=f'S{station_num} Start', zorder=4)\n",
    "        ax.axvline(x=updated_cutoffs[i+1], color=color, linewidth=4, linestyle='--', label=f'S{station_num} End', zorder=4)\n",
    "    ax.set_title(f\"🎯 User {USER_ID} - Adjustable Station Boundaries ({num_stations} Stations)\", fontsize=14)\n",
    "    ax.set_xlabel(\"Time (minutes)\", fontsize=12)\n",
    "    ax.set_ylabel(\"Heart Rate (bpm)\", fontsize=12)\n",
    "    ax.grid(True, linestyle='--', alpha=0.3)\n",
    "    ax.legend(loc='upper left', bbox_to_anchor=(1.02, 1), fontsize=10)\n",
    "    ax.set_xlim(0, df['elapsed_min'].max())\n",
    "    ax.set_ylim(current_y_min, current_y_max)\n",
    "    plt.tight_layout()\n",
    "    plots_dir = f'output/plots/user_{USER_ID}'\n",
    "    os.makedirs(plots_dir, exist_ok=True)\n",
    "    plt.savefig(f'{plots_dir}/heart_rate_with_stations.png', dpi=300, bbox_inches='tight')\n",
    "    with plot_output:\n",
    "        plot_output.clear_output(wait=True)\n",
    "        plt.show()\n",
    "    global current_cutoffs\n",
    "    current_cutoffs = updated_cutoffs\n",
    "\n",
    "plot_output = widgets.Output()\n",
    "for slider in sliders:\n",
    "    slider.observe(update_plot, names='value')\n",
    "slider_box = widgets.VBox(sliders)\n",
    "display(slider_box)\n",
    "display(plot_output)\n",
    "update_plot()\n",
    "print(f\"\\n🎛️ Use the sliders above to adjust station boundaries\")\n",
    "print(f\"✅ Real-time updates - move sliders to see changes instantly\")\n",
    "print(f\"📊 {num_stations} stations ready for fine-tuning\")"
   ]
  },
  {
   "cell_type": "code",
   "execution_count": 12,
   "metadata": {},
   "outputs": [
    {
     "name": "stdout",
     "output_type": "stream",
     "text": [
      "💾 FINAL CUTOFFS ENTERED:\n",
      "📊 Review and confirm these are correct:\n",
      "   Station 1: 1.90 - 4.20 min (duration: 2.30 min)\n",
      "   Station 2: 5.30 - 7.90 min (duration: 2.60 min)\n",
      "   Station 3: 18.90 - 29.50 min (duration: 10.60 min)\n",
      "   Station 4: 37.10 - 41.10 min (duration: 4.00 min)\n",
      "   Station 5: 42.00 - 45.80 min (duration: 3.80 min)\n",
      "✅ Using header format from output/processed/user_4_station_data.csv\n",
      "\n",
      "📊 Station 1 Analysis:\n",
      "   Duration: 2.30 minutes\n",
      "   Average HR: 139.7 bpm\n",
      "   Max HR: 153 bpm\n",
      "   Data points: 12\n",
      "\n",
      "📊 Station 2 Analysis:\n",
      "   Duration: 2.60 minutes\n",
      "   Average HR: 155.1 bpm\n",
      "   Max HR: 162 bpm\n",
      "   Data points: 15\n",
      "\n",
      "📊 Station 3 Analysis:\n",
      "   Duration: 10.60 minutes\n",
      "   Average HR: 173.4 bpm\n",
      "   Max HR: 192 bpm\n",
      "   Data points: 29\n",
      "\n",
      "📊 Station 4 Analysis:\n",
      "   Duration: 4.00 minutes\n",
      "   Average HR: 180.3 bpm\n",
      "   Max HR: 190 bpm\n",
      "   Data points: 19\n",
      "\n",
      "📊 Station 5 Analysis:\n",
      "   Duration: 3.80 minutes\n",
      "   Average HR: 184.2 bpm\n",
      "   Max HR: 191 bpm\n",
      "   Data points: 21\n",
      "\n",
      "✅ Station data exported to: output/processed/user_7_station_data_peaks.csv\n",
      "✅ Format matches exactly: output/processed/user_4_station_data.csv\n",
      "🎯 Ready for your boss's review!\n",
      "\n",
      "📋 Exported Data Preview (first 10 columns):\n"
     ]
    },
    {
     "data": {
      "text/html": [
       "<div>\n",
       "<style scoped>\n",
       "    .dataframe tbody tr th:only-of-type {\n",
       "        vertical-align: middle;\n",
       "    }\n",
       "\n",
       "    .dataframe tbody tr th {\n",
       "        vertical-align: top;\n",
       "    }\n",
       "\n",
       "    .dataframe thead th {\n",
       "        text-align: right;\n",
       "    }\n",
       "</style>\n",
       "<table border=\"1\" class=\"dataframe\">\n",
       "  <thead>\n",
       "    <tr style=\"text-align: right;\">\n",
       "      <th></th>\n",
       "      <th>user_id</th>\n",
       "      <th>participant_id</th>\n",
       "      <th>group_number</th>\n",
       "      <th>champ_number</th>\n",
       "      <th>gender</th>\n",
       "      <th>age</th>\n",
       "      <th>height_cm</th>\n",
       "      <th>weight_kg</th>\n",
       "      <th>sports_experience</th>\n",
       "      <th>sports_frequency_times_per_week</th>\n",
       "    </tr>\n",
       "  </thead>\n",
       "  <tbody>\n",
       "    <tr>\n",
       "      <th>0</th>\n",
       "      <td>7</td>\n",
       "      <td>TBD</td>\n",
       "      <td>TBD</td>\n",
       "      <td>5</td>\n",
       "      <td>TBD</td>\n",
       "      <td>TBD</td>\n",
       "      <td>NaN</td>\n",
       "      <td>NaN</td>\n",
       "      <td>NaN</td>\n",
       "      <td>TBD</td>\n",
       "    </tr>\n",
       "    <tr>\n",
       "      <th>1</th>\n",
       "      <td>7</td>\n",
       "      <td>TBD</td>\n",
       "      <td>TBD</td>\n",
       "      <td>5</td>\n",
       "      <td>TBD</td>\n",
       "      <td>TBD</td>\n",
       "      <td>NaN</td>\n",
       "      <td>NaN</td>\n",
       "      <td>NaN</td>\n",
       "      <td>TBD</td>\n",
       "    </tr>\n",
       "    <tr>\n",
       "      <th>2</th>\n",
       "      <td>7</td>\n",
       "      <td>TBD</td>\n",
       "      <td>TBD</td>\n",
       "      <td>5</td>\n",
       "      <td>TBD</td>\n",
       "      <td>TBD</td>\n",
       "      <td>NaN</td>\n",
       "      <td>NaN</td>\n",
       "      <td>NaN</td>\n",
       "      <td>TBD</td>\n",
       "    </tr>\n",
       "    <tr>\n",
       "      <th>3</th>\n",
       "      <td>7</td>\n",
       "      <td>TBD</td>\n",
       "      <td>TBD</td>\n",
       "      <td>5</td>\n",
       "      <td>TBD</td>\n",
       "      <td>TBD</td>\n",
       "      <td>NaN</td>\n",
       "      <td>NaN</td>\n",
       "      <td>NaN</td>\n",
       "      <td>TBD</td>\n",
       "    </tr>\n",
       "    <tr>\n",
       "      <th>4</th>\n",
       "      <td>7</td>\n",
       "      <td>TBD</td>\n",
       "      <td>TBD</td>\n",
       "      <td>5</td>\n",
       "      <td>TBD</td>\n",
       "      <td>TBD</td>\n",
       "      <td>NaN</td>\n",
       "      <td>NaN</td>\n",
       "      <td>NaN</td>\n",
       "      <td>TBD</td>\n",
       "    </tr>\n",
       "  </tbody>\n",
       "</table>\n",
       "</div>"
      ],
      "text/plain": [
       "   user_id participant_id group_number  champ_number gender  age  height_cm  \\\n",
       "0        7            TBD          TBD             5    TBD  TBD        NaN   \n",
       "1        7            TBD          TBD             5    TBD  TBD        NaN   \n",
       "2        7            TBD          TBD             5    TBD  TBD        NaN   \n",
       "3        7            TBD          TBD             5    TBD  TBD        NaN   \n",
       "4        7            TBD          TBD             5    TBD  TBD        NaN   \n",
       "\n",
       "   weight_kg  sports_experience sports_frequency_times_per_week  \n",
       "0        NaN                NaN                             TBD  \n",
       "1        NaN                NaN                             TBD  \n",
       "2        NaN                NaN                             TBD  \n",
       "3        NaN                NaN                             TBD  \n",
       "4        NaN                NaN                             TBD  "
      ]
     },
     "metadata": {},
     "output_type": "display_data"
    }
   ],
   "source": [
    "# STEP 5: Save Final Cutoffs and Export Data in Exact Format\n",
    "\n",
    "import csv\n",
    "from datetime import timedelta\n",
    "\n",
    "final_cutoffs = []\n",
    "for i in range(0, len(current_cutoffs), 2):\n",
    "    if i + 1 < len(current_cutoffs):\n",
    "        start_time = current_cutoffs[i]\n",
    "        end_time = current_cutoffs[i + 1]\n",
    "        final_cutoffs.append((start_time, end_time))\n",
    "\n",
    "print(\"💾 FINAL CUTOFFS ENTERED:\")\n",
    "print(\"📊 Review and confirm these are correct:\")\n",
    "for i, (start, end) in enumerate(final_cutoffs, 1):\n",
    "    duration = end - start\n",
    "    print(f\"   Station {i}: {start:.2f} - {end:.2f} min (duration: {duration:.2f} min)\")\n",
    "\n",
    "reference_csv = 'output/processed/user_4_station_data.csv'\n",
    "try:\n",
    "    with open(reference_csv, 'r') as f:\n",
    "        reader = csv.reader(f)\n",
    "        header = next(reader)\n",
    "    print(f\"✅ Using header format from {reference_csv}\")\n",
    "except Exception as e:\n",
    "    print(f\"⚠️ Could not read reference CSV: {e}\")\n",
    "    header = ['user_id','participant_id','group_number','champ_number','gender','age','height_cm','weight_kg','sports_experience','sports_frequency_times_per_week','sports_experience_years_total','sports_types','video_game_experience','gaming_experience_years_total','video_game_types','gaming_frequency_times_per_week','session_start_time','session_end_time','session_duration_min','session_avg_hr','session_max_hr','calories_burned','station_number','station_name','station_start_time','station_end_time','station_duration_min','station_avg_hr','station_max_hr','station_points_score','station_motivation_rating','station_fun_rating','station_physical_exertion_rating','station_cognitive_exertion_rating','station_team_cooperation_rating','overall_experience_rating','overall_motivation_after_completion','what_did_you_like_and_why','what_could_be_better','I hated it / I enjoyed it','It was boring / It was interesting','I didn\\'t like it at all / I liked it a lot','It was unpleasant / It was pleasant','I was not at all engaged in the activity / I was very engaged in the activity','It was not fun at all / It was a lot of fun','I found it very tiring / I found it very invigorating','It made me feel depressed / It made me happy','I felt physically bad during the activity / I felt physically good during the activity','It was not at all stimulating/invigorating / It was very stimulating/invigorating','I was very frustrated during the activity / I was not at all frustrated during the activity','It was not enjoyable at all / It was very enjoyable','It was not exciting at all / It was very exciting','It was not at all stimulating / It was very stimulating','It gave me no sense of accomplishment at all / It gave me a strong sense of accomplishment','It was not at all refreshing / It was very refreshing','I did not feel like I was just going through the motions / I felt like I was just going through the motions','data_quality','notes']\n",
    "\n",
    "session_start_timestamp = df.iloc[0]['timestamp']\n",
    "session_end_timestamp = df.iloc[-1]['timestamp']\n",
    "\n",
    "station_rows = []\n",
    "for i, (start_time, end_time) in enumerate(final_cutoffs, 1):\n",
    "    station_mask = (df['elapsed_min'] >= start_time) & (df['elapsed_min'] <= end_time)\n",
    "    station_df = df[station_mask].copy()\n",
    "    if len(station_df) > 0:\n",
    "        station_start_timestamp = session_start_timestamp + timedelta(minutes=start_time)\n",
    "        station_end_timestamp = session_start_timestamp + timedelta(minutes=end_time)\n",
    "        station_duration_min = end_time - start_time\n",
    "        station_avg_hr = station_df['heart_rate'].mean()\n",
    "        station_max_hr = station_df['heart_rate'].max()\n",
    "        row = [''] * len(header)\n",
    "        row[header.index('user_id')] = USER_ID\n",
    "        row[header.index('participant_id')] = 'TBD'\n",
    "        row[header.index('group_number')] = 'TBD'\n",
    "        row[header.index('champ_number')] = len(final_cutoffs)\n",
    "        row[header.index('gender')] = 'TBD'\n",
    "        row[header.index('age')] = 'TBD'\n",
    "        row[header.index('height_cm')] = ''\n",
    "        row[header.index('weight_kg')] = ''\n",
    "        row[header.index('sports_experience')] = ''\n",
    "        row[header.index('sports_frequency_times_per_week')] = 'TBD'\n",
    "        row[header.index('sports_experience_years_total')] = 'TBD'\n",
    "        row[header.index('sports_types')] = 'TBD'\n",
    "        row[header.index('video_game_experience')] = ''\n",
    "        row[header.index('gaming_experience_years_total')] = 'TBD'\n",
    "        row[header.index('video_game_types')] = 'TBD'\n",
    "        row[header.index('gaming_frequency_times_per_week')] = 'TBD'\n",
    "        row[header.index('session_start_time')] = session_start_timestamp.isoformat()\n",
    "        row[header.index('session_end_time')] = session_end_timestamp.isoformat()\n",
    "        row[header.index('session_duration_min')] = session_duration_min\n",
    "        row[header.index('session_avg_hr')] = session_avg_hr\n",
    "        row[header.index('session_max_hr')] = session_max_hr\n",
    "        row[header.index('calories_burned')] = calories_burned if calories_burned else ''\n",
    "        row[header.index('station_number')] = i\n",
    "        row[header.index('station_name')] = ''\n",
    "        row[header.index('station_start_time')] = station_start_timestamp.isoformat()\n",
    "        row[header.index('station_end_time')] = station_end_timestamp.isoformat()\n",
    "        row[header.index('station_duration_min')] = station_duration_min\n",
    "        row[header.index('station_avg_hr')] = station_avg_hr\n",
    "        row[header.index('station_max_hr')] = station_max_hr\n",
    "        row[header.index('station_points_score')] = 'TBD'\n",
    "        survey_fields = ['station_motivation_rating','station_fun_rating','station_physical_exertion_rating','station_cognitive_exertion_rating','station_team_cooperation_rating','overall_experience_rating','overall_motivation_after_completion','what_did_you_like_and_why','what_could_be_better']\n",
    "        for field in survey_fields:\n",
    "            if field in header:\n",
    "                row[header.index(field)] = 'TBD'\n",
    "        likert_fields = ['I hated it / I enjoyed it','It was boring / It was interesting','I didn\\'t like it at all / I liked it a lot','It was unpleasant / It was pleasant','I was not at all engaged in the activity / I was very engaged in the activity','It was not fun at all / It was a lot of fun','I found it very tiring / I found it very invigorating','It made me feel depressed / It made me happy','I felt physically bad during the activity / I felt physically good during the activity','It was not at all stimulating/invigorating / It was very stimulating/invigorating','I was very frustrated during the activity / I was not at all frustrated during the activity','It was not enjoyable at all / It was very enjoyable','It was not exciting at all / It was very exciting','It was not at all stimulating / It was very stimulating','It gave me no sense of accomplishment at all / It gave me a strong sense of accomplishment','It was not at all refreshing / It was very refreshing','I did not feel like I was just going through the motions / I felt like I was just going through the motions']\n",
    "        for field in likert_fields:\n",
    "            if field in header:\n",
    "                row[header.index(field)] = 'TBD'\n",
    "        row[header.index('data_quality')] = f\"HIGH QUALITY DATA: User {USER_ID} demonstrates clean, continuous heart rate recording throughout the session. Heart rate patterns show clear physiological responses to exercise with well-defined peaks during active gameplay periods and appropriate recovery valleys between stations. Peak-based detection algorithm successfully identified {len(final_cutoffs)} distinct activity periods. Data is suitable for detailed cardiovascular analysis, station-level comparisons, and physiological research applications.\"\n",
    "        row[header.index('notes')] = f\"RESEARCH NOTE: User {USER_ID} completed {len(final_cutoffs)}-station Sphere protocol with high-quality heart rate monitoring. Station boundaries were determined through automated peak detection algorithm with visual alignment of TCX data with Garmin chart, identifying clear transitions between active gameplay periods and recovery intervals. Each station represents distinct cardiovascular responses with well-defined peaks. Data is validated for research use in exercise physiology, gaming exertion studies, and cardiovascular response analysis. Station timing reflects actual participant pacing rather than rigid protocol timing, providing ecologically valid data.\"\n",
    "        station_rows.append(row)\n",
    "        print(f\"\\n📊 Station {i} Analysis:\")\n",
    "        print(f\"   Duration: {station_duration_min:.2f} minutes\")\n",
    "        print(f\"   Average HR: {station_avg_hr:.1f} bpm\")\n",
    "        print(f\"   Max HR: {station_max_hr} bpm\")\n",
    "        print(f\"   Data points: {len(station_df)}\")\n",
    "\n",
    "if station_rows:\n",
    "    output_file = f'output/processed/user_{USER_ID}_station_data_peaks.csv'\n",
    "    with open(output_file, 'w', newline='', encoding='utf-8') as f:\n",
    "        writer = csv.writer(f)\n",
    "        writer.writerow(header)\n",
    "        writer.writerows(station_rows)\n",
    "    print(f\"\\n✅ Station data exported to: {output_file}\")\n",
    "    print(f\"✅ Format matches exactly: {reference_csv}\")\n",
    "    print(\"🎯 Ready for your boss's review!\")\n",
    "    preview_df = pd.read_csv(output_file)\n",
    "    print(f\"\\n📋 Exported Data Preview (first 10 columns):\")\n",
    "    display(preview_df.iloc[:, :10])\n",
    "else:\n",
    "    print(\"❌ No station data to export - check your cutoff positions\")"
   ]
  },
  {
   "cell_type": "code",
   "execution_count": null,
   "metadata": {},
   "outputs": [],
   "source": []
  }
 ],
 "metadata": {
  "kernelspec": {
   "display_name": "Python 3 (ipykernel)",
   "language": "python",
   "name": "python3"
  },
  "language_info": {
   "codemirror_mode": {
    "name": "ipython",
    "version": 3
   },
   "file_extension": ".py",
   "mimetype": "text/x-python",
   "name": "python",
   "nbconvert_exporter": "python",
   "pygments_lexer": "ipython3",
   "version": "3.11.3"
  }
 },
 "nbformat": 4,
 "nbformat_minor": 2
}
