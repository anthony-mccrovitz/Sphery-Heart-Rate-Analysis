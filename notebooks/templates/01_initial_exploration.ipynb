{
 "cells": [
  {
   "cell_type": "code",
   "execution_count": 8,
   "metadata": {},
   "outputs": [],
   "source": [
    "import pandas as pd\n",
    "import sys\n",
    "import os\n",
    "sys.path.append('../scripts')\n",
    "from parse_tcx import parse_tcx_to_df\n"
   ]
  },
  {
   "cell_type": "code",
   "execution_count": 13,
   "metadata": {},
   "outputs": [],
   "source": [
    "#Parse the TCX file for 69-d\n",
    "df, total_time_sec, avg_hr, max_hr = parse_tcx_to_df('/Users/anthonymccrovitz/Desktop/Sphery/Sphere Heart Rate Analysis/data/69-d.tcx')"
   ]
  },
  {
   "cell_type": "code",
   "execution_count": 14,
   "metadata": {},
   "outputs": [
    {
     "name": "stdout",
     "output_type": "stream",
     "text": [
      "First 5 Rows:\n",
      "                  timestamp  heart_rate                start_time  elapsed_min\n",
      "0 2025-04-06 10:33:11+00:00         105 2025-04-06 10:33:11+00:00     0.000000\n",
      "1 2025-04-06 10:33:28+00:00         100 2025-04-06 10:33:11+00:00     0.283333\n",
      "2 2025-04-06 10:33:39+00:00         102 2025-04-06 10:33:11+00:00     0.466667\n",
      "3 2025-04-06 10:33:49+00:00         108 2025-04-06 10:33:11+00:00     0.633333\n",
      "4 2025-04-06 10:34:01+00:00         118 2025-04-06 10:33:11+00:00     0.833333\n"
     ]
    }
   ],
   "source": [
    "#Show the first few rows\n",
    "print(\"First 5 Rows:\")\n",
    "print(df.head())"
   ]
  },
  {
   "cell_type": "code",
   "execution_count": 15,
   "metadata": {},
   "outputs": [
    {
     "name": "stdout",
     "output_type": "stream",
     "text": [
      "\n",
      "Total time (sec): 2648.0\n",
      "Average HR: 135.7 bpm\n",
      "Max HR: 163 bpm\n"
     ]
    }
   ],
   "source": [
    "# Show Summary Statistics\n",
    "print(f\"\\nTotal time (sec): {total_time_sec}\")\n",
    "print(f\"Average HR: {avg_hr:.1f} bpm\")\n",
    "print(f\"Max HR: {max_hr} bpm\")"
   ]
  },
  {
   "cell_type": "code",
   "execution_count": null,
   "metadata": {},
   "outputs": [],
   "source": []
  }
 ],
 "metadata": {
  "kernelspec": {
   "display_name": "Python 3 (ipykernel)",
   "language": "python",
   "name": "python3"
  },
  "language_info": {
   "codemirror_mode": {
    "name": "ipython",
    "version": 3
   },
   "file_extension": ".py",
   "mimetype": "text/x-python",
   "name": "python",
   "nbconvert_exporter": "python",
   "pygments_lexer": "ipython3",
   "version": "3.11.3"
  }
 },
 "nbformat": 4,
 "nbformat_minor": 4
}
